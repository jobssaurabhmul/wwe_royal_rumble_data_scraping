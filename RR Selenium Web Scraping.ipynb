{
 "cells": [
  {
   "cell_type": "code",
   "execution_count": 3,
   "id": "e63a6d14",
   "metadata": {},
   "outputs": [],
   "source": [
    "from selenium import webdriver\n",
    "from selenium.webdriver.common.keys import Keys\n",
    "from selenium.webdriver.common.by import By\n",
    "import time\n",
    "import numpy as np\n",
    "import pandas as pd"
   ]
  },
  {
   "cell_type": "markdown",
   "id": "464ff7ee",
   "metadata": {},
   "source": [
    "# RR88"
   ]
  },
  {
   "cell_type": "code",
   "execution_count": null,
   "id": "78b56fef",
   "metadata": {},
   "outputs": [],
   "source": [
    "driver = webdriver.Chrome()\n",
    "driver.get(\"https://www.cagematch.net/?id=1&nr=1755\") #1988 RR"
   ]
  },
  {
   "cell_type": "code",
   "execution_count": null,
   "id": "2e84672e",
   "metadata": {},
   "outputs": [],
   "source": [
    "lst = driver.find_elements(By.CLASS_NAME,\"InformationBoxRow\")"
   ]
  },
  {
   "cell_type": "code",
   "execution_count": null,
   "id": "589ada04",
   "metadata": {},
   "outputs": [],
   "source": [
    "# grab data in infobox and put in a dict\n",
    "# the details of the event are being captured here\n",
    "info_box = dict()\n",
    "for i in lst:\n",
    "    row = i.text.split(':')\n",
    "    info_box[row[0]] = row[1]\n",
    "print(info_box)"
   ]
  },
  {
   "cell_type": "code",
   "execution_count": null,
   "id": "7b1ec6f6",
   "metadata": {},
   "outputs": [],
   "source": [
    "# capture details of the Royal Rumble match\n",
    "allmatches = driver.find_elements(By.CLASS_NAME,\"Match\")\n",
    "\n",
    "for match in allmatches:\n",
    "    match_type = match.find_element(By.CLASS_NAME,'MatchType')\n",
    "    \n",
    "    if \"Royal Rumble\" in match_type.text:\n",
    "        results = match.find_element(By.CLASS_NAME,'MatchResults').text\n",
    "        winner = results.find_element(By.TAG_NAME,'a').text\n",
    "        notes = match.find_element(By.CLASS_NAME,'MatchNotes').text\n",
    "        \n",
    "print(results)\n",
    "print(winner)\n",
    "print(notes)"
   ]
  },
  {
   "cell_type": "markdown",
   "id": "374f0aa6",
   "metadata": {},
   "source": [
    "# RR list"
   ]
  },
  {
   "cell_type": "code",
   "execution_count": null,
   "id": "3df1b37b",
   "metadata": {},
   "outputs": [],
   "source": [
    "# url of search results on cagematch.net\n",
    "url = \"https://www.cagematch.net/?id=1&view=search&sEventName=royal+rumble&sPromotion=&sDateFromDay=01&sDateFromMonth=01&sDateFromYear=1984&sDateTillDay=31&sDateTillMonth=12&sDateTillYear=2024&sRegion=&sEventType=Pay+Per+View%7CPremium+Live+Event&sLocation=&sArena=&sAny=\""
   ]
  },
  {
   "cell_type": "code",
   "execution_count": null,
   "id": "48c9d622",
   "metadata": {},
   "outputs": [],
   "source": [
    "driver = webdriver.Chrome()\n",
    "driver.get(url)"
   ]
  },
  {
   "cell_type": "code",
   "execution_count": null,
   "id": "94f4fa60",
   "metadata": {},
   "outputs": [],
   "source": [
    "rr_list = driver.find_element(By.TAG_NAME,\"tbody\") # table\n",
    "events = rr_list.find_elements(By.TAG_NAME,\"tr\") # rows\n",
    "atag = events[1].find_elements(By.TAG_NAME,\"a\") # events 1 bec events 0 not required\n",
    "new_url = atag[1].get_attribute('href') # atag 1 bec atag 0 is a logo url"
   ]
  },
  {
   "cell_type": "code",
   "execution_count": null,
   "id": "d24c99fc",
   "metadata": {},
   "outputs": [],
   "source": [
    "new_url = atag[1].get_attribute('href')"
   ]
  },
  {
   "cell_type": "code",
   "execution_count": null,
   "id": "fd90ffd1",
   "metadata": {},
   "outputs": [],
   "source": [
    "driver.execute_script(\"window.open('');\") "
   ]
  },
  {
   "cell_type": "code",
   "execution_count": null,
   "id": "2b39accc",
   "metadata": {},
   "outputs": [],
   "source": [
    "driver.switch_to.window(driver.window_handles[1]) \n",
    "driver.get(new_url) "
   ]
  },
  {
   "cell_type": "markdown",
   "id": "5a20bf9a",
   "metadata": {},
   "source": [
    "## loop list"
   ]
  },
  {
   "cell_type": "code",
   "execution_count": null,
   "id": "1ede683e",
   "metadata": {},
   "outputs": [],
   "source": [
    "# url of search results on cagematch.net\n",
    "url = \"https://www.cagematch.net/?id=1&view=search&sEventName=royal+rumble&sPromotion=&sDateFromDay=01&sDateFromMonth=01&sDateFromYear=1984&sDateTillDay=31&sDateTillMonth=12&sDateTillYear=2024&sRegion=&sEventType=Pay+Per+View%7CPremium+Live+Event&sLocation=&sArena=&sAny=\" # url without RR98\n",
    "#url = \"https://www.cagematch.net/?id=1&view=search&sEventName=royal+rumble&sPromotion=&sDateFromDay=01&sDateFromMonth=01&sDateFromYear=1984&sDateTillDay=31&sDateTillMonth=12&sDateTillYear=2024&sRegion=&sEventType=&sLocation=&sArena=&sAny=\"\n",
    "driver = webdriver.Chrome()\n",
    "driver.get(url)"
   ]
  },
  {
   "cell_type": "code",
   "execution_count": null,
   "id": "1846f6e4",
   "metadata": {},
   "outputs": [],
   "source": [
    "rr_list = driver.find_element(By.TAG_NAME,\"tbody\") # table\n",
    "events = rr_list.find_elements(By.TAG_NAME,\"tr\") # rows"
   ]
  },
  {
   "cell_type": "code",
   "execution_count": null,
   "id": "4d434557",
   "metadata": {
    "scrolled": true
   },
   "outputs": [],
   "source": [
    "for event in events[1:]: # bec events 0 not required\n",
    "    atag = event.find_elements(By.TAG_NAME,\"a\") # get links\n",
    "    \n",
    "    if (\"WWE\" in atag[1].text or \"WWF\" in atag[1].text) and \"Greatest\" not in atag[1].text:\n",
    "#   if (\"Kickoff\" or \"Axxess\" or \"Pre-Show\" or \"Fan Fest\") not in atag[1].text:\n",
    "        new_url = atag[1].get_attribute('href')# bec atag 0 is a logo url\n",
    "        print(atag[1].text)\n",
    "    else:\n",
    "        continue\n",
    "    driver.execute_script(\"window.open('');\") # open new window\n",
    "    driver.switch_to.window(driver.window_handles[1]) # switch to new window\n",
    "    driver.get(new_url) # open new url\n",
    "    time.sleep(2)\n",
    "    driver.switch_to.window(driver.window_handles[0]) # switch back to old window"
   ]
  },
  {
   "cell_type": "markdown",
   "id": "f237932c",
   "metadata": {},
   "source": [
    "# Capture all data"
   ]
  },
  {
   "cell_type": "code",
   "execution_count": 24,
   "id": "5ffc2162",
   "metadata": {},
   "outputs": [
    {
     "name": "stderr",
     "output_type": "stream",
     "text": [
      "The chromedriver version (121.0.6167.85) detected in PATH at D:\\anaconda3\\envs\\rpa\\chromedriver.exe might not be compatible with the detected chrome version (122.0.6261.95); currently, chromedriver 122.0.6261.94 is recommended for chrome 122.*, so it is advised to delete the driver in PATH and retry\n"
     ]
    }
   ],
   "source": [
    "# search results url without 1988 RR\n",
    "#url = \"https://www.cagematch.net/?id=1&view=search&sEventName=royal+rumble&sPromotion=&sDateFromDay=01&sDateFromMonth=01&sDateFromYear=1984&sDateTillDay=31&sDateTillMonth=12&sDateTillYear=2024&sRegion=&sEventType=Pay+Per+View%7CPremium+Live+Event&sLocation=&sArena=&sAny=\" # url without RR98\n",
    "url = \"https://www.cagematch.net/?id=1&view=search&sEventName=royal+rumble&sPromotion=&sDateFromDay=01&sDateFromMonth=01&sDateFromYear=1984&sDateTillDay=31&sDateTillMonth=12&sDateTillYear=2024&sRegion=&sEventType=&sLocation=&sArena=&sAny=\"\n",
    "driver = webdriver.Chrome()\n",
    "driver.get(url)"
   ]
  },
  {
   "cell_type": "code",
   "execution_count": 25,
   "id": "96eee5bf",
   "metadata": {},
   "outputs": [],
   "source": [
    "rr_list = driver.find_element(By.TAG_NAME,\"tbody\") # table\n",
    "events = rr_list.find_elements(By.TAG_NAME,\"tr\") # rows    "
   ]
  },
  {
   "cell_type": "code",
   "execution_count": 26,
   "id": "5007d1cb",
   "metadata": {},
   "outputs": [
    {
     "name": "stdout",
     "output_type": "stream",
     "text": [
      "WWE Royal Rumble 2024\n",
      "WWE Royal Rumble 2023\n",
      "WWE Royal Rumble 2022\n",
      "WWE Royal Rumble 2021\n"
     ]
    }
   ],
   "source": [
    "event_data = []\n",
    "#results_data = []\n",
    "#winners_data = []\n",
    "#notes_data = []\n",
    "\n",
    "for event in events[1:10]: # bec events 0 is table header only\n",
    "    \n",
    "    # step 1 : Open URL\n",
    "    atag = event.find_elements(By.TAG_NAME,\"a\") # get links\n",
    "    \n",
    "    if (\"WWE\" in atag[1].text or \"WWF\" in atag[1].text) and \\\n",
    "    (\"Greatest\" not in atag[1].text) and (\"Kickoff\" not in atag[1].text) \\\n",
    "    and (\"Fan Fest\" not in atag[1].text)\\\n",
    "    and (\"Axxess\" not in atag[1].text) and (\"Pre-Show\"not in atag[1].text):\n",
    "\n",
    "        new_url = atag[1].get_attribute('href')# bec atag 0 is a logo url\n",
    "        event_name = atag[1].text\n",
    "        print(event_name)\n",
    "    else:\n",
    "        continue\n",
    "    driver.execute_script(\"window.open('');\") # open new window\n",
    "    driver.switch_to.window(driver.window_handles[1]) # switch to new window\n",
    "    driver.get(new_url) # open new url\n",
    "    \n",
    "    # step 2: Capture event data\n",
    "    lst = driver.find_elements(By.CLASS_NAME,\"InformationBoxRow\")\n",
    "    \n",
    "    # grab data in infobox and put in a dict\n",
    "    # the details of the event are being captured here\n",
    "    info_box = dict()\n",
    "    for i in lst:\n",
    "        row = i.text.split(':')\n",
    "        info_box[row[0]] = row[1]\n",
    "    #print(info_box)\n",
    "    event_data.append(info_box)\n",
    "    \n",
    "    # step 3: capture details of the Royal Rumble match\n",
    "    allmatches = driver.find_elements(By.CLASS_NAME,\"Match\")\n",
    "\n",
    "    for match in allmatches:\n",
    "        match_type = match.find_element(By.CLASS_NAME,'MatchType')\n",
    "    \n",
    "        if \"Royal Rumble\" in match_type.text:\n",
    "            \n",
    "            try:\n",
    "                results = match.find_element(By.CLASS_NAME,'MatchResults').text\n",
    "                winner = match.find_element(By.CLASS_NAME,'MatchResults').find_element(By.TAG_NAME,'a').text\n",
    "                notes = match.find_element(By.CLASS_NAME,'MatchNotes').text\n",
    "            \n",
    "            except:\n",
    "                continue\n",
    "            # append all results -> create a list of dict\n",
    "            #results_data.append({event_name:results}) # append result dict\n",
    "            #winners_data.append({event_name:winner}) # append winner dict\n",
    "            #notes_data.append({event_name:notes}) # append notes dict\n",
    "            \n",
    "            if 'results' in info_box:\n",
    "                info_box['results'].append(results)\n",
    "            else:\n",
    "                info_box['results'] = [results]\n",
    "                \n",
    "            if 'winners' in info_box:\n",
    "                info_box['winners'].append(winner)\n",
    "            else:\n",
    "                info_box['winners'] = [winner]\n",
    "                \n",
    "            if 'notes' in info_box:\n",
    "                info_box['notes'].append(notes)\n",
    "            else:\n",
    "                info_box['notes'] = [notes]\n",
    "        \n",
    "    \n",
    "    ###################################################\n",
    "    time.sleep(3)\n",
    "    driver.switch_to.window(driver.window_handles[0]) # switch back to old window"
   ]
  },
  {
   "cell_type": "code",
   "execution_count": 27,
   "id": "73a4ce1d",
   "metadata": {},
   "outputs": [],
   "source": [
    "rrdata = pd.DataFrame(event_data)"
   ]
  },
  {
   "cell_type": "code",
   "execution_count": 28,
   "id": "f6545674",
   "metadata": {},
   "outputs": [
    {
     "data": {
      "text/html": [
       "<div>\n",
       "<style scoped>\n",
       "    .dataframe tbody tr th:only-of-type {\n",
       "        vertical-align: middle;\n",
       "    }\n",
       "\n",
       "    .dataframe tbody tr th {\n",
       "        vertical-align: top;\n",
       "    }\n",
       "\n",
       "    .dataframe thead th {\n",
       "        text-align: right;\n",
       "    }\n",
       "</style>\n",
       "<table border=\"1\" class=\"dataframe\">\n",
       "  <thead>\n",
       "    <tr style=\"text-align: right;\">\n",
       "      <th></th>\n",
       "      <th>Name of the event</th>\n",
       "      <th>Date</th>\n",
       "      <th>Promotion</th>\n",
       "      <th>Type</th>\n",
       "      <th>Location</th>\n",
       "      <th>Arena</th>\n",
       "      <th>Attendance</th>\n",
       "      <th>Broadcast type</th>\n",
       "      <th>Broadcast date</th>\n",
       "      <th>TV station/network</th>\n",
       "      <th>Commentary by</th>\n",
       "      <th>results</th>\n",
       "      <th>winners</th>\n",
       "      <th>notes</th>\n",
       "      <th>Theme</th>\n",
       "    </tr>\n",
       "  </thead>\n",
       "  <tbody>\n",
       "    <tr>\n",
       "      <th>0</th>\n",
       "      <td>WWE Royal Rumble 2024</td>\n",
       "      <td>27.01.2024</td>\n",
       "      <td>World Wrestling Entertainment</td>\n",
       "      <td>Premium Live Event</td>\n",
       "      <td>St. Petersburg, Florida, USA</td>\n",
       "      <td>Tropicana Field</td>\n",
       "      <td>46.082</td>\n",
       "      <td>Live</td>\n",
       "      <td>27.01.2024</td>\n",
       "      <td>WWE Network</td>\n",
       "      <td>Corey Graves, Michael Cole &amp; Pat McAfee</td>\n",
       "      <td>[Bayley defeats Alba Fyre and Asuka and Becky ...</td>\n",
       "      <td>[Bayley, Cody Rhodes]</td>\n",
       "      <td>[- Bayley eliminates Indi Hartwell (10:58)\\n- ...</td>\n",
       "      <td>NaN</td>\n",
       "    </tr>\n",
       "    <tr>\n",
       "      <th>1</th>\n",
       "      <td>WWE Royal Rumble 2023</td>\n",
       "      <td>28.01.2023</td>\n",
       "      <td>World Wrestling Entertainment</td>\n",
       "      <td>Premium Live Event</td>\n",
       "      <td>San Antonio, Texas, USA</td>\n",
       "      <td>Alamodome</td>\n",
       "      <td>47.585</td>\n",
       "      <td>Live</td>\n",
       "      <td>28.01.2023</td>\n",
       "      <td>WWE Network</td>\n",
       "      <td>Corey Graves, Michael Cole &amp; Pat McAfee</td>\n",
       "      <td>[Cody Rhodes defeats Angelo Dawkins and Austin...</td>\n",
       "      <td>[Cody Rhodes, Rhea Ripley]</td>\n",
       "      <td>[- Sheamus eliminates The Miz (6:58)\\n- Drew M...</td>\n",
       "      <td>Sold Out (HARDY)</td>\n",
       "    </tr>\n",
       "    <tr>\n",
       "      <th>2</th>\n",
       "      <td>WWE Royal Rumble 2022</td>\n",
       "      <td>29.01.2022</td>\n",
       "      <td>World Wrestling Entertainment</td>\n",
       "      <td>Premium Live Event</td>\n",
       "      <td>St. Louis, Missouri, USA</td>\n",
       "      <td>The Dome at America's Center</td>\n",
       "      <td>39.417</td>\n",
       "      <td>Live</td>\n",
       "      <td>29.01.2022</td>\n",
       "      <td>WWE Network</td>\n",
       "      <td>Byron Saxton, Corey Graves, Jimmy Smith, Mich...</td>\n",
       "      <td>[Ronda Rousey defeats Alicia Fox and Aliyah an...</td>\n",
       "      <td>[Ronda Rousey, Brock Lesnar]</td>\n",
       "      <td>[- Sasha Banks eliminates Melina (0:54)\\n- Sas...</td>\n",
       "      <td>NaN</td>\n",
       "    </tr>\n",
       "    <tr>\n",
       "      <th>3</th>\n",
       "      <td>WWE Royal Rumble 2021</td>\n",
       "      <td>31.01.2021</td>\n",
       "      <td>World Wrestling Entertainment</td>\n",
       "      <td>Premium Live Event</td>\n",
       "      <td>St. Petersburg, Florida, USA</td>\n",
       "      <td>WWE ThunderDome (Tropicana Field)</td>\n",
       "      <td>NaN</td>\n",
       "      <td>Live</td>\n",
       "      <td>31.01.2021</td>\n",
       "      <td>WWE Network</td>\n",
       "      <td>Byron Saxton, Samoa Joe, Tom Phillips, Corey ...</td>\n",
       "      <td>[Bianca Belair defeats Alexa Bliss and Alicia ...</td>\n",
       "      <td>[Bianca Belair, Edge]</td>\n",
       "      <td>[- Shayna Baszler eliminates Shotzi Blackheart...</td>\n",
       "      <td>NaN</td>\n",
       "    </tr>\n",
       "  </tbody>\n",
       "</table>\n",
       "</div>"
      ],
      "text/plain": [
       "        Name of the event         Date                       Promotion  \\\n",
       "0   WWE Royal Rumble 2024   27.01.2024   World Wrestling Entertainment   \n",
       "1   WWE Royal Rumble 2023   28.01.2023   World Wrestling Entertainment   \n",
       "2   WWE Royal Rumble 2022   29.01.2022   World Wrestling Entertainment   \n",
       "3   WWE Royal Rumble 2021   31.01.2021   World Wrestling Entertainment   \n",
       "\n",
       "                  Type                       Location  \\\n",
       "0   Premium Live Event   St. Petersburg, Florida, USA   \n",
       "1   Premium Live Event        San Antonio, Texas, USA   \n",
       "2   Premium Live Event       St. Louis, Missouri, USA   \n",
       "3   Premium Live Event   St. Petersburg, Florida, USA   \n",
       "\n",
       "                                Arena Attendance Broadcast type  \\\n",
       "0                     Tropicana Field     46.082           Live   \n",
       "1                           Alamodome     47.585           Live   \n",
       "2        The Dome at America's Center     39.417           Live   \n",
       "3   WWE ThunderDome (Tropicana Field)        NaN           Live   \n",
       "\n",
       "  Broadcast date TV station/network  \\\n",
       "0     27.01.2024        WWE Network   \n",
       "1     28.01.2023        WWE Network   \n",
       "2     29.01.2022        WWE Network   \n",
       "3     31.01.2021        WWE Network   \n",
       "\n",
       "                                       Commentary by  \\\n",
       "0            Corey Graves, Michael Cole & Pat McAfee   \n",
       "1            Corey Graves, Michael Cole & Pat McAfee   \n",
       "2   Byron Saxton, Corey Graves, Jimmy Smith, Mich...   \n",
       "3   Byron Saxton, Samoa Joe, Tom Phillips, Corey ...   \n",
       "\n",
       "                                             results  \\\n",
       "0  [Bayley defeats Alba Fyre and Asuka and Becky ...   \n",
       "1  [Cody Rhodes defeats Angelo Dawkins and Austin...   \n",
       "2  [Ronda Rousey defeats Alicia Fox and Aliyah an...   \n",
       "3  [Bianca Belair defeats Alexa Bliss and Alicia ...   \n",
       "\n",
       "                        winners  \\\n",
       "0         [Bayley, Cody Rhodes]   \n",
       "1    [Cody Rhodes, Rhea Ripley]   \n",
       "2  [Ronda Rousey, Brock Lesnar]   \n",
       "3         [Bianca Belair, Edge]   \n",
       "\n",
       "                                               notes              Theme  \n",
       "0  [- Bayley eliminates Indi Hartwell (10:58)\\n- ...                NaN  \n",
       "1  [- Sheamus eliminates The Miz (6:58)\\n- Drew M...   Sold Out (HARDY)  \n",
       "2  [- Sasha Banks eliminates Melina (0:54)\\n- Sas...                NaN  \n",
       "3  [- Shayna Baszler eliminates Shotzi Blackheart...                NaN  "
      ]
     },
     "execution_count": 28,
     "metadata": {},
     "output_type": "execute_result"
    }
   ],
   "source": [
    "rrdata"
   ]
  },
  {
   "cell_type": "code",
   "execution_count": 9,
   "id": "62b93f1d",
   "metadata": {},
   "outputs": [],
   "source": [
    "rrdata.to_csv('RRData.csv', index=False)"
   ]
  },
  {
   "cell_type": "markdown",
   "id": "8552b610",
   "metadata": {},
   "source": [
    "# Funtion Code"
   ]
  },
  {
   "cell_type": "code",
   "execution_count": 32,
   "id": "beeb1554",
   "metadata": {},
   "outputs": [],
   "source": [
    "def rr_data_scrap(url):\n",
    "    '''\n",
    "    Given a url capture the data corresponsing to the Royal Rumble Events\n",
    "    Capture the details of the events\n",
    "    Capture the results, winners and notes of the events\n",
    "    '''\n",
    "    # open chrome browser and get the url\n",
    "    driver = webdriver.Chrome()\n",
    "    driver.get(url)\n",
    "    \n",
    "    # find the required data \n",
    "    rr_list = driver.find_element(By.TAG_NAME,\"tbody\") # find the table\n",
    "    events = rr_list.find_elements(By.TAG_NAME,\"tr\") # find all rows of the table containing event details \n",
    "    \n",
    "    # capture the details in this list\n",
    "    event_data = []\n",
    "\n",
    "    # \n",
    "    for event in events[1:5]: # bec events 0 is table header only\n",
    "\n",
    "        # step 1 : Open URL\n",
    "        atag = event.find_elements(By.TAG_NAME,\"a\") # get list of links\n",
    "\n",
    "        # capture only the required data, ignore others such as \"Fan Fest\", \"Greatest\"\n",
    "        if (\"WWE\" in atag[1].text or \"WWF\" in atag[1].text) and \\\n",
    "        (\"Greatest\" not in atag[1].text) and (\"Kickoff\" not in atag[1].text) \\\n",
    "        and (\"Fan Fest\" not in atag[1].text)\\\n",
    "        and (\"Axxess\" not in atag[1].text) and (\"Pre-Show\"not in atag[1].text):\n",
    "\n",
    "            new_url = atag[1].get_attribute('href')# this is the url of one event; atag 0 is a logo url(not required)\n",
    "            event_name = atag[1].text\n",
    "            print(event_name)\n",
    "        else:\n",
    "            continue\n",
    "        \n",
    "        # open new window and open new url\n",
    "        driver.execute_script(\"window.open('');\") # open new window\n",
    "        driver.switch_to.window(driver.window_handles[1]) # switch to new window\n",
    "        driver.get(new_url) # open new url\n",
    "\n",
    "        # step 2: Capture event data\n",
    "        lst = driver.find_elements(By.CLASS_NAME,\"InformationBoxRow\")\n",
    "\n",
    "        # grab data in infobox and put in a dict\n",
    "        # the details of the event are being captured here\n",
    "        info_box = dict()\n",
    "        for i in lst:\n",
    "            row = i.text.split(':')\n",
    "            info_box[row[0]] = row[1]\n",
    "        #print(info_box)\n",
    "        event_data.append(info_box) # add data to a list\n",
    "        \n",
    "\n",
    "        # step 3: capture details of the Royal Rumble match\n",
    "        allmatches = driver.find_elements(By.CLASS_NAME,\"Match\")\n",
    "\n",
    "        for match in allmatches:\n",
    "            match_type = match.find_element(By.CLASS_NAME,'MatchType')\n",
    "\n",
    "            if \"Royal Rumble\" in match_type.text:\n",
    "\n",
    "                try:\n",
    "                    results = match.find_element(By.CLASS_NAME,'MatchResults').text\n",
    "                    winner = match.find_element(By.CLASS_NAME,'MatchResults').find_element(By.TAG_NAME,'a').text\n",
    "                    notes = match.find_element(By.CLASS_NAME,'MatchNotes').text\n",
    "\n",
    "                except:\n",
    "                    continue\n",
    "\n",
    "                if 'Results' in info_box:\n",
    "                    info_box['Results'].append(results)\n",
    "                else:\n",
    "                    info_box['Results'] = [results]\n",
    "\n",
    "                if 'Winners' in info_box:\n",
    "                    info_box['Winners'].append(winner)\n",
    "                else:\n",
    "                    info_box['Winners'] = [winner]\n",
    "\n",
    "                if 'Notes' in info_box:\n",
    "                    info_box['Notes'].append(notes)\n",
    "                else:\n",
    "                    info_box['Notes'] = [notes]\n",
    "        \n",
    "       \n",
    "\n",
    "        # sleep the program to ensure that google doesnt stop the scraping process\n",
    "        time.sleep(3)\n",
    "        driver.switch_to.window(driver.window_handles[0]) # switch back to old window\n",
    "\n",
    "    # output a csv file and return the dataframe\n",
    "    rr_data = pd.DataFrame(event_data)\n",
    "    rr_data.to_csv('rr_func_output.csv', index=False)\n",
    "    \n",
    "    return rr_data"
   ]
  },
  {
   "cell_type": "code",
   "execution_count": 33,
   "id": "621b5a91",
   "metadata": {},
   "outputs": [
    {
     "name": "stderr",
     "output_type": "stream",
     "text": [
      "The chromedriver version (121.0.6167.85) detected in PATH at D:\\anaconda3\\envs\\rpa\\chromedriver.exe might not be compatible with the detected chrome version (122.0.6261.95); currently, chromedriver 122.0.6261.94 is recommended for chrome 122.*, so it is advised to delete the driver in PATH and retry\n"
     ]
    },
    {
     "name": "stdout",
     "output_type": "stream",
     "text": [
      "WWE Royal Rumble 2024\n",
      "WWE Royal Rumble 2023\n"
     ]
    }
   ],
   "source": [
    "url_rr = \"https://www.cagematch.net/?id=1&view=search&sEventName=royal+rumble&sPromotion=&sDateFromDay=01&sDateFromMonth=01&sDateFromYear=1984&sDateTillDay=31&sDateTillMonth=12&sDateTillYear=2024&sRegion=&sEventType=&sLocation=&sArena=&sAny=\"\n",
    "data = rr_data_scrap(url_rr)"
   ]
  },
  {
   "cell_type": "code",
   "execution_count": 34,
   "id": "1db7bd3d",
   "metadata": {},
   "outputs": [
    {
     "data": {
      "text/html": [
       "<div>\n",
       "<style scoped>\n",
       "    .dataframe tbody tr th:only-of-type {\n",
       "        vertical-align: middle;\n",
       "    }\n",
       "\n",
       "    .dataframe tbody tr th {\n",
       "        vertical-align: top;\n",
       "    }\n",
       "\n",
       "    .dataframe thead th {\n",
       "        text-align: right;\n",
       "    }\n",
       "</style>\n",
       "<table border=\"1\" class=\"dataframe\">\n",
       "  <thead>\n",
       "    <tr style=\"text-align: right;\">\n",
       "      <th></th>\n",
       "      <th>Name of the event</th>\n",
       "      <th>Date</th>\n",
       "      <th>Promotion</th>\n",
       "      <th>Type</th>\n",
       "      <th>Location</th>\n",
       "      <th>Arena</th>\n",
       "      <th>Attendance</th>\n",
       "      <th>Broadcast type</th>\n",
       "      <th>Broadcast date</th>\n",
       "      <th>TV station/network</th>\n",
       "      <th>Commentary by</th>\n",
       "      <th>Results</th>\n",
       "      <th>Winners</th>\n",
       "      <th>Notes</th>\n",
       "      <th>Theme</th>\n",
       "    </tr>\n",
       "  </thead>\n",
       "  <tbody>\n",
       "    <tr>\n",
       "      <th>0</th>\n",
       "      <td>WWE Royal Rumble 2024</td>\n",
       "      <td>27.01.2024</td>\n",
       "      <td>World Wrestling Entertainment</td>\n",
       "      <td>Premium Live Event</td>\n",
       "      <td>St. Petersburg, Florida, USA</td>\n",
       "      <td>Tropicana Field</td>\n",
       "      <td>46.082</td>\n",
       "      <td>Live</td>\n",
       "      <td>27.01.2024</td>\n",
       "      <td>WWE Network</td>\n",
       "      <td>Corey Graves, Michael Cole &amp; Pat McAfee</td>\n",
       "      <td>[Bayley defeats Alba Fyre and Asuka and Becky ...</td>\n",
       "      <td>[Bayley, Cody Rhodes]</td>\n",
       "      <td>[- Bayley eliminates Indi Hartwell (10:58)\\n- ...</td>\n",
       "      <td>NaN</td>\n",
       "    </tr>\n",
       "    <tr>\n",
       "      <th>1</th>\n",
       "      <td>WWE Royal Rumble 2023</td>\n",
       "      <td>28.01.2023</td>\n",
       "      <td>World Wrestling Entertainment</td>\n",
       "      <td>Premium Live Event</td>\n",
       "      <td>San Antonio, Texas, USA</td>\n",
       "      <td>Alamodome</td>\n",
       "      <td>47.585</td>\n",
       "      <td>Live</td>\n",
       "      <td>28.01.2023</td>\n",
       "      <td>WWE Network</td>\n",
       "      <td>Corey Graves, Michael Cole &amp; Pat McAfee</td>\n",
       "      <td>[Cody Rhodes defeats Angelo Dawkins and Austin...</td>\n",
       "      <td>[Cody Rhodes, Rhea Ripley]</td>\n",
       "      <td>[- Sheamus eliminates The Miz (6:58)\\n- Drew M...</td>\n",
       "      <td>Sold Out (HARDY)</td>\n",
       "    </tr>\n",
       "  </tbody>\n",
       "</table>\n",
       "</div>"
      ],
      "text/plain": [
       "        Name of the event         Date                       Promotion  \\\n",
       "0   WWE Royal Rumble 2024   27.01.2024   World Wrestling Entertainment   \n",
       "1   WWE Royal Rumble 2023   28.01.2023   World Wrestling Entertainment   \n",
       "\n",
       "                  Type                       Location             Arena  \\\n",
       "0   Premium Live Event   St. Petersburg, Florida, USA   Tropicana Field   \n",
       "1   Premium Live Event        San Antonio, Texas, USA         Alamodome   \n",
       "\n",
       "  Attendance Broadcast type Broadcast date TV station/network  \\\n",
       "0     46.082           Live     27.01.2024        WWE Network   \n",
       "1     47.585           Live     28.01.2023        WWE Network   \n",
       "\n",
       "                              Commentary by  \\\n",
       "0   Corey Graves, Michael Cole & Pat McAfee   \n",
       "1   Corey Graves, Michael Cole & Pat McAfee   \n",
       "\n",
       "                                             Results  \\\n",
       "0  [Bayley defeats Alba Fyre and Asuka and Becky ...   \n",
       "1  [Cody Rhodes defeats Angelo Dawkins and Austin...   \n",
       "\n",
       "                      Winners  \\\n",
       "0       [Bayley, Cody Rhodes]   \n",
       "1  [Cody Rhodes, Rhea Ripley]   \n",
       "\n",
       "                                               Notes              Theme  \n",
       "0  [- Bayley eliminates Indi Hartwell (10:58)\\n- ...                NaN  \n",
       "1  [- Sheamus eliminates The Miz (6:58)\\n- Drew M...   Sold Out (HARDY)  "
      ]
     },
     "execution_count": 34,
     "metadata": {},
     "output_type": "execute_result"
    }
   ],
   "source": [
    "data"
   ]
  },
  {
   "cell_type": "code",
   "execution_count": null,
   "id": "52f28951",
   "metadata": {},
   "outputs": [],
   "source": []
  }
 ],
 "metadata": {
  "kernelspec": {
   "display_name": "Python 3 (ipykernel)",
   "language": "python",
   "name": "python3"
  },
  "language_info": {
   "codemirror_mode": {
    "name": "ipython",
    "version": 3
   },
   "file_extension": ".py",
   "mimetype": "text/x-python",
   "name": "python",
   "nbconvert_exporter": "python",
   "pygments_lexer": "ipython3",
   "version": "3.9.12"
  }
 },
 "nbformat": 4,
 "nbformat_minor": 5
}
