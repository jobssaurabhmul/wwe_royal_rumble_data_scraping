{
 "cells": [
  {
   "cell_type": "code",
   "execution_count": 74,
   "id": "bd7b2b70",
   "metadata": {},
   "outputs": [],
   "source": [
    "import pandas as pd\n",
    "import numpy as np\n",
    "import ast"
   ]
  },
  {
   "cell_type": "code",
   "execution_count": 2,
   "id": "0e93b659",
   "metadata": {},
   "outputs": [],
   "source": [
    "data = pd.read_csv('rr_func_output.csv')"
   ]
  },
  {
   "cell_type": "code",
   "execution_count": 3,
   "id": "7b876be8",
   "metadata": {},
   "outputs": [
    {
     "name": "stdout",
     "output_type": "stream",
     "text": [
      "<class 'pandas.core.frame.DataFrame'>\n",
      "RangeIndex: 37 entries, 0 to 36\n",
      "Data columns (total 18 columns):\n",
      " #   Column              Non-Null Count  Dtype  \n",
      "---  ------              --------------  -----  \n",
      " 0   Name of the event   37 non-null     object \n",
      " 1   Date                37 non-null     object \n",
      " 2   Promotion           37 non-null     object \n",
      " 3   Type                37 non-null     object \n",
      " 4   Location            37 non-null     object \n",
      " 5   Arena               37 non-null     object \n",
      " 6   Attendance          35 non-null     object \n",
      " 7   Broadcast type      37 non-null     object \n",
      " 8   Broadcast date      37 non-null     object \n",
      " 9   TV station/network  20 non-null     object \n",
      " 10  Commentary by       37 non-null     object \n",
      " 11  results             37 non-null     object \n",
      " 12  winners             37 non-null     object \n",
      " 13  notes               37 non-null     object \n",
      " 14  Theme               20 non-null     object \n",
      " 15  Buyrate (absolute)  6 non-null      float64\n",
      " 16  Buyrate (relative)  18 non-null     float64\n",
      " 17  TV rating           1 non-null      float64\n",
      "dtypes: float64(3), object(15)\n",
      "memory usage: 5.3+ KB\n"
     ]
    }
   ],
   "source": [
    "data.info()"
   ]
  },
  {
   "cell_type": "code",
   "execution_count": 4,
   "id": "f2afaa3d",
   "metadata": {},
   "outputs": [
    {
     "data": {
      "text/html": [
       "<div>\n",
       "<style scoped>\n",
       "    .dataframe tbody tr th:only-of-type {\n",
       "        vertical-align: middle;\n",
       "    }\n",
       "\n",
       "    .dataframe tbody tr th {\n",
       "        vertical-align: top;\n",
       "    }\n",
       "\n",
       "    .dataframe thead th {\n",
       "        text-align: right;\n",
       "    }\n",
       "</style>\n",
       "<table border=\"1\" class=\"dataframe\">\n",
       "  <thead>\n",
       "    <tr style=\"text-align: right;\">\n",
       "      <th></th>\n",
       "      <th>Name of the event</th>\n",
       "      <th>Date</th>\n",
       "      <th>Promotion</th>\n",
       "      <th>Type</th>\n",
       "      <th>Location</th>\n",
       "      <th>Arena</th>\n",
       "      <th>Attendance</th>\n",
       "      <th>Broadcast type</th>\n",
       "      <th>Broadcast date</th>\n",
       "      <th>TV station/network</th>\n",
       "      <th>Commentary by</th>\n",
       "      <th>results</th>\n",
       "      <th>winners</th>\n",
       "      <th>notes</th>\n",
       "      <th>Theme</th>\n",
       "      <th>Buyrate (absolute)</th>\n",
       "      <th>Buyrate (relative)</th>\n",
       "      <th>TV rating</th>\n",
       "    </tr>\n",
       "  </thead>\n",
       "  <tbody>\n",
       "    <tr>\n",
       "      <th>0</th>\n",
       "      <td>WWE Royal Rumble 2024</td>\n",
       "      <td>27.01.2024</td>\n",
       "      <td>World Wrestling Entertainment</td>\n",
       "      <td>Premium Live Event</td>\n",
       "      <td>St. Petersburg, Florida, USA</td>\n",
       "      <td>Tropicana Field</td>\n",
       "      <td>46.082</td>\n",
       "      <td>Live</td>\n",
       "      <td>27.01.2024</td>\n",
       "      <td>WWE Network</td>\n",
       "      <td>Corey Graves, Michael Cole &amp; Pat McAfee</td>\n",
       "      <td>['Bayley defeats Alba Fyre and Asuka and Becky...</td>\n",
       "      <td>['Bayley', 'Cody Rhodes']</td>\n",
       "      <td>['- Bayley eliminates Indi Hartwell (10:58)\\n-...</td>\n",
       "      <td>NaN</td>\n",
       "      <td>NaN</td>\n",
       "      <td>NaN</td>\n",
       "      <td>NaN</td>\n",
       "    </tr>\n",
       "    <tr>\n",
       "      <th>1</th>\n",
       "      <td>WWE Royal Rumble 2023</td>\n",
       "      <td>28.01.2023</td>\n",
       "      <td>World Wrestling Entertainment</td>\n",
       "      <td>Premium Live Event</td>\n",
       "      <td>San Antonio, Texas, USA</td>\n",
       "      <td>Alamodome</td>\n",
       "      <td>47.585</td>\n",
       "      <td>Live</td>\n",
       "      <td>28.01.2023</td>\n",
       "      <td>WWE Network</td>\n",
       "      <td>Corey Graves, Michael Cole &amp; Pat McAfee</td>\n",
       "      <td>['Cody Rhodes defeats Angelo Dawkins and Austi...</td>\n",
       "      <td>['Cody Rhodes', 'Rhea Ripley']</td>\n",
       "      <td>['- Sheamus eliminates The Miz (6:58)\\n- Drew ...</td>\n",
       "      <td>Sold Out (HARDY)</td>\n",
       "      <td>NaN</td>\n",
       "      <td>NaN</td>\n",
       "      <td>NaN</td>\n",
       "    </tr>\n",
       "    <tr>\n",
       "      <th>2</th>\n",
       "      <td>WWE Royal Rumble 2022</td>\n",
       "      <td>29.01.2022</td>\n",
       "      <td>World Wrestling Entertainment</td>\n",
       "      <td>Premium Live Event</td>\n",
       "      <td>St. Louis, Missouri, USA</td>\n",
       "      <td>The Dome at America's Center</td>\n",
       "      <td>39.417</td>\n",
       "      <td>Live</td>\n",
       "      <td>29.01.2022</td>\n",
       "      <td>WWE Network</td>\n",
       "      <td>Byron Saxton, Corey Graves, Jimmy Smith, Mich...</td>\n",
       "      <td>['Ronda Rousey defeats Alicia Fox and Aliyah a...</td>\n",
       "      <td>['Ronda Rousey', 'Brock Lesnar']</td>\n",
       "      <td>['- Sasha Banks eliminates Melina (0:54)\\n- Sa...</td>\n",
       "      <td>NaN</td>\n",
       "      <td>NaN</td>\n",
       "      <td>NaN</td>\n",
       "      <td>NaN</td>\n",
       "    </tr>\n",
       "    <tr>\n",
       "      <th>3</th>\n",
       "      <td>WWE Royal Rumble 2021</td>\n",
       "      <td>31.01.2021</td>\n",
       "      <td>World Wrestling Entertainment</td>\n",
       "      <td>Premium Live Event</td>\n",
       "      <td>St. Petersburg, Florida, USA</td>\n",
       "      <td>WWE ThunderDome (Tropicana Field)</td>\n",
       "      <td>NaN</td>\n",
       "      <td>Live</td>\n",
       "      <td>31.01.2021</td>\n",
       "      <td>WWE Network</td>\n",
       "      <td>Byron Saxton, Samoa Joe, Tom Phillips, Corey ...</td>\n",
       "      <td>['Bianca Belair defeats Alexa Bliss and Alicia...</td>\n",
       "      <td>['Bianca Belair', 'Edge']</td>\n",
       "      <td>['- Shayna Baszler eliminates Shotzi Blackhear...</td>\n",
       "      <td>NaN</td>\n",
       "      <td>NaN</td>\n",
       "      <td>NaN</td>\n",
       "      <td>NaN</td>\n",
       "    </tr>\n",
       "    <tr>\n",
       "      <th>4</th>\n",
       "      <td>WWE Royal Rumble 2020</td>\n",
       "      <td>26.01.2020</td>\n",
       "      <td>World Wrestling Entertainment</td>\n",
       "      <td>Premium Live Event</td>\n",
       "      <td>Houston, Texas, USA</td>\n",
       "      <td>Minute Maid Park</td>\n",
       "      <td>42.715</td>\n",
       "      <td>Live</td>\n",
       "      <td>26.01.2020</td>\n",
       "      <td>WWE Network</td>\n",
       "      <td>Michael Cole, Corey Graves, Tom Phillips, Jer...</td>\n",
       "      <td>['Charlotte Flair defeats Alexa Bliss and Beth...</td>\n",
       "      <td>['Charlotte Flair', 'Drew McIntyre']</td>\n",
       "      <td>['- Liv Morgan eliminates Lana\\n- Lana elimina...</td>\n",
       "      <td>Rumble (Zayde Wolf)</td>\n",
       "      <td>NaN</td>\n",
       "      <td>NaN</td>\n",
       "      <td>NaN</td>\n",
       "    </tr>\n",
       "  </tbody>\n",
       "</table>\n",
       "</div>"
      ],
      "text/plain": [
       "        Name of the event         Date                       Promotion  \\\n",
       "0   WWE Royal Rumble 2024   27.01.2024   World Wrestling Entertainment   \n",
       "1   WWE Royal Rumble 2023   28.01.2023   World Wrestling Entertainment   \n",
       "2   WWE Royal Rumble 2022   29.01.2022   World Wrestling Entertainment   \n",
       "3   WWE Royal Rumble 2021   31.01.2021   World Wrestling Entertainment   \n",
       "4   WWE Royal Rumble 2020   26.01.2020   World Wrestling Entertainment   \n",
       "\n",
       "                  Type                       Location  \\\n",
       "0   Premium Live Event   St. Petersburg, Florida, USA   \n",
       "1   Premium Live Event        San Antonio, Texas, USA   \n",
       "2   Premium Live Event       St. Louis, Missouri, USA   \n",
       "3   Premium Live Event   St. Petersburg, Florida, USA   \n",
       "4   Premium Live Event            Houston, Texas, USA   \n",
       "\n",
       "                                Arena Attendance Broadcast type  \\\n",
       "0                     Tropicana Field     46.082           Live   \n",
       "1                           Alamodome     47.585           Live   \n",
       "2        The Dome at America's Center     39.417           Live   \n",
       "3   WWE ThunderDome (Tropicana Field)        NaN           Live   \n",
       "4                    Minute Maid Park     42.715           Live   \n",
       "\n",
       "  Broadcast date TV station/network  \\\n",
       "0     27.01.2024        WWE Network   \n",
       "1     28.01.2023        WWE Network   \n",
       "2     29.01.2022        WWE Network   \n",
       "3     31.01.2021        WWE Network   \n",
       "4     26.01.2020        WWE Network   \n",
       "\n",
       "                                       Commentary by  \\\n",
       "0            Corey Graves, Michael Cole & Pat McAfee   \n",
       "1            Corey Graves, Michael Cole & Pat McAfee   \n",
       "2   Byron Saxton, Corey Graves, Jimmy Smith, Mich...   \n",
       "3   Byron Saxton, Samoa Joe, Tom Phillips, Corey ...   \n",
       "4   Michael Cole, Corey Graves, Tom Phillips, Jer...   \n",
       "\n",
       "                                             results  \\\n",
       "0  ['Bayley defeats Alba Fyre and Asuka and Becky...   \n",
       "1  ['Cody Rhodes defeats Angelo Dawkins and Austi...   \n",
       "2  ['Ronda Rousey defeats Alicia Fox and Aliyah a...   \n",
       "3  ['Bianca Belair defeats Alexa Bliss and Alicia...   \n",
       "4  ['Charlotte Flair defeats Alexa Bliss and Beth...   \n",
       "\n",
       "                                winners  \\\n",
       "0             ['Bayley', 'Cody Rhodes']   \n",
       "1        ['Cody Rhodes', 'Rhea Ripley']   \n",
       "2      ['Ronda Rousey', 'Brock Lesnar']   \n",
       "3             ['Bianca Belair', 'Edge']   \n",
       "4  ['Charlotte Flair', 'Drew McIntyre']   \n",
       "\n",
       "                                               notes                 Theme  \\\n",
       "0  ['- Bayley eliminates Indi Hartwell (10:58)\\n-...                   NaN   \n",
       "1  ['- Sheamus eliminates The Miz (6:58)\\n- Drew ...      Sold Out (HARDY)   \n",
       "2  ['- Sasha Banks eliminates Melina (0:54)\\n- Sa...                   NaN   \n",
       "3  ['- Shayna Baszler eliminates Shotzi Blackhear...                   NaN   \n",
       "4  ['- Liv Morgan eliminates Lana\\n- Lana elimina...   Rumble (Zayde Wolf)   \n",
       "\n",
       "   Buyrate (absolute)  Buyrate (relative)  TV rating  \n",
       "0                 NaN                 NaN        NaN  \n",
       "1                 NaN                 NaN        NaN  \n",
       "2                 NaN                 NaN        NaN  \n",
       "3                 NaN                 NaN        NaN  \n",
       "4                 NaN                 NaN        NaN  "
      ]
     },
     "execution_count": 4,
     "metadata": {},
     "output_type": "execute_result"
    }
   ],
   "source": [
    "data.head()"
   ]
  },
  {
   "cell_type": "code",
   "execution_count": 5,
   "id": "e692fff8",
   "metadata": {},
   "outputs": [],
   "source": [
    "# dropping columns that I will not analyse\n",
    "data.drop(columns = ['Buyrate (absolute)','Buyrate (relative)','TV rating'], inplace=True)"
   ]
  },
  {
   "cell_type": "markdown",
   "id": "5a335e6f",
   "metadata": {},
   "source": [
    "# EDA"
   ]
  },
  {
   "cell_type": "markdown",
   "id": "21f7e98d",
   "metadata": {},
   "source": [
    "## About the event"
   ]
  },
  {
   "cell_type": "code",
   "execution_count": 6,
   "id": "fe958960",
   "metadata": {},
   "outputs": [
    {
     "data": {
      "text/plain": [
       "' WWE Royal Rumble 2024'"
      ]
     },
     "execution_count": 6,
     "metadata": {},
     "output_type": "execute_result"
    }
   ],
   "source": [
    "data['Name of the event'][0]"
   ]
  },
  {
   "cell_type": "code",
   "execution_count": 7,
   "id": "8cbfc50c",
   "metadata": {},
   "outputs": [
    {
     "data": {
      "text/plain": [
       "' WWF Royal Rumble 1988'"
      ]
     },
     "execution_count": 7,
     "metadata": {},
     "output_type": "execute_result"
    }
   ],
   "source": [
    "data['Name of the event'][len(data)-1]"
   ]
  },
  {
   "cell_type": "code",
   "execution_count": 8,
   "id": "40e78340",
   "metadata": {},
   "outputs": [
    {
     "data": {
      "text/plain": [
       "37"
      ]
     },
     "execution_count": 8,
     "metadata": {},
     "output_type": "execute_result"
    }
   ],
   "source": [
    "data.shape[0]"
   ]
  },
  {
   "cell_type": "markdown",
   "id": "7d41dd85",
   "metadata": {},
   "source": [
    "There have been 37 Royal Rumble Annual events starting. \n",
    "The first one was in 1988\n",
    "The latest one was in 2024"
   ]
  },
  {
   "cell_type": "markdown",
   "id": "121ddd31",
   "metadata": {},
   "source": [
    "## Date"
   ]
  },
  {
   "cell_type": "code",
   "execution_count": 9,
   "id": "90067d81",
   "metadata": {},
   "outputs": [],
   "source": [
    "# convert date to datetype\n",
    "data['Date'] = pd.to_datetime(data['Date'].str.strip(),format =\"%d.%m.%Y\")"
   ]
  },
  {
   "cell_type": "code",
   "execution_count": 10,
   "id": "b2acebae",
   "metadata": {},
   "outputs": [],
   "source": [
    "# promotion and type columns not needed \n",
    "data.drop(columns = ['Promotion','Type'], inplace=True)"
   ]
  },
  {
   "cell_type": "markdown",
   "id": "6ca63273",
   "metadata": {},
   "source": [
    "## Location"
   ]
  },
  {
   "cell_type": "code",
   "execution_count": 11,
   "id": "4bfce4e2",
   "metadata": {},
   "outputs": [],
   "source": [
    "data['Location'] = data['Location'].str.strip() # remove spaces"
   ]
  },
  {
   "cell_type": "code",
   "execution_count": 12,
   "id": "ed9e3ab6",
   "metadata": {},
   "outputs": [
    {
     "data": {
      "text/plain": [
       "San Antonio, Texas, USA            4\n",
       "Philadelphia, Pennsylvania, USA    3\n",
       "St. Petersburg, Florida, USA       2\n",
       "Boston, Massachusetts, USA         2\n",
       "Fresno, California, USA            2\n",
       "Miami, Florida, USA                2\n",
       "Atlanta, Georgia, USA              2\n",
       "New York City, New York, USA       2\n",
       "Orlando, Florida, USA              2\n",
       "Phoenix, Arizona, USA              2\n",
       "Houston, Texas, USA                2\n",
       "St. Louis, Missouri, USA           2\n",
       "Pittsburgh, Pennsylvania, USA      1\n",
       "Detroit, Michigan, USA             1\n",
       "New Orleans, Louisiana, USA        1\n",
       "Anaheim, California, USA           1\n",
       "San Jose, California, USA          1\n",
       "Tampa, Florida, USA                1\n",
       "Providence, Rhode Island, USA      1\n",
       "Sacramento, California, USA        1\n",
       "Albany, New York, USA              1\n",
       "Hamilton, Ontario, Canada          1\n",
       "Name: Location, dtype: int64"
      ]
     },
     "execution_count": 12,
     "metadata": {},
     "output_type": "execute_result"
    }
   ],
   "source": [
    "data['Location'].value_counts()"
   ]
  },
  {
   "cell_type": "code",
   "execution_count": 13,
   "id": "1ff7ba71",
   "metadata": {},
   "outputs": [],
   "source": [
    "# finding the cities and states that have hosted the event \n",
    "location = data['Location'].apply(lambda x:x.split(\",\"))"
   ]
  },
  {
   "cell_type": "code",
   "execution_count": 14,
   "id": "466b763b",
   "metadata": {},
   "outputs": [
    {
     "data": {
      "text/plain": [
       "San Antonio       4\n",
       "Philadelphia      3\n",
       "St. Petersburg    2\n",
       "Boston            2\n",
       "Fresno            2\n",
       "Miami             2\n",
       "Atlanta           2\n",
       "New York City     2\n",
       "Orlando           2\n",
       "Phoenix           2\n",
       "Houston           2\n",
       "St. Louis         2\n",
       "Pittsburgh        1\n",
       "Detroit           1\n",
       "New Orleans       1\n",
       "Anaheim           1\n",
       "San Jose          1\n",
       "Tampa             1\n",
       "Providence        1\n",
       "Sacramento        1\n",
       "Albany            1\n",
       "Hamilton          1\n",
       "Name: Location, dtype: int64"
      ]
     },
     "execution_count": 14,
     "metadata": {},
     "output_type": "execute_result"
    }
   ],
   "source": [
    "# Cities\n",
    "location.apply(lambda x: x[0]).str.strip().value_counts()"
   ]
  },
  {
   "cell_type": "code",
   "execution_count": 15,
   "id": "5b7b2a86",
   "metadata": {},
   "outputs": [
    {
     "data": {
      "text/plain": [
       "Florida          7\n",
       "Texas            6\n",
       "California       5\n",
       "Pennsylvania     4\n",
       "New York         3\n",
       "Missouri         2\n",
       "Arizona          2\n",
       "Massachusetts    2\n",
       "Georgia          2\n",
       "Michigan         1\n",
       "Louisiana        1\n",
       "Rhode Island     1\n",
       "Ontario          1\n",
       "Name: Location, dtype: int64"
      ]
     },
     "execution_count": 15,
     "metadata": {},
     "output_type": "execute_result"
    }
   ],
   "source": [
    "# States\n",
    "location.apply(lambda x: x[1]).str.strip().value_counts()"
   ]
  },
  {
   "cell_type": "code",
   "execution_count": 16,
   "id": "50aff6fb",
   "metadata": {},
   "outputs": [
    {
     "data": {
      "text/plain": [
       "USA       36\n",
       "Canada     1\n",
       "Name: Location, dtype: int64"
      ]
     },
     "execution_count": 16,
     "metadata": {},
     "output_type": "execute_result"
    }
   ],
   "source": [
    "# Countries\n",
    "location.apply(lambda x: x[2]).str.strip().value_counts()"
   ]
  },
  {
   "cell_type": "code",
   "execution_count": 17,
   "id": "0796fcd5",
   "metadata": {},
   "outputs": [],
   "source": [
    "# Create a function where if I pass a location (any of city, state, country), return the details of the events\n",
    "\n",
    "def data_given_location(location_name):\n",
    "    '''\n",
    "    Pass a location and get the details of the event that have taken place at the location\n",
    "    '''\n",
    "    idx = data['Location'][data['Location'].apply(lambda x:location_name in x) == True].index\n",
    "    \n",
    "    return data.iloc[idx]"
   ]
  },
  {
   "cell_type": "code",
   "execution_count": 18,
   "id": "edc7a6e8",
   "metadata": {},
   "outputs": [
    {
     "data": {
      "text/html": [
       "<div>\n",
       "<style scoped>\n",
       "    .dataframe tbody tr th:only-of-type {\n",
       "        vertical-align: middle;\n",
       "    }\n",
       "\n",
       "    .dataframe tbody tr th {\n",
       "        vertical-align: top;\n",
       "    }\n",
       "\n",
       "    .dataframe thead th {\n",
       "        text-align: right;\n",
       "    }\n",
       "</style>\n",
       "<table border=\"1\" class=\"dataframe\">\n",
       "  <thead>\n",
       "    <tr style=\"text-align: right;\">\n",
       "      <th></th>\n",
       "      <th>Name of the event</th>\n",
       "      <th>Date</th>\n",
       "      <th>Location</th>\n",
       "      <th>Arena</th>\n",
       "      <th>Attendance</th>\n",
       "      <th>Broadcast type</th>\n",
       "      <th>Broadcast date</th>\n",
       "      <th>TV station/network</th>\n",
       "      <th>Commentary by</th>\n",
       "      <th>results</th>\n",
       "      <th>winners</th>\n",
       "      <th>notes</th>\n",
       "      <th>Theme</th>\n",
       "    </tr>\n",
       "  </thead>\n",
       "  <tbody>\n",
       "    <tr>\n",
       "      <th>14</th>\n",
       "      <td>WWE Royal Rumble 2010</td>\n",
       "      <td>2010-01-31</td>\n",
       "      <td>Atlanta, Georgia, USA</td>\n",
       "      <td>Philips Arena</td>\n",
       "      <td>16.697</td>\n",
       "      <td>Live</td>\n",
       "      <td>31.01.2010</td>\n",
       "      <td>PPV Sender</td>\n",
       "      <td>Jerry Lawler, Matt Striker &amp; Michael Cole</td>\n",
       "      <td>['Edge defeats Batista and Beth Phoenix and Ca...</td>\n",
       "      <td>['Edge']</td>\n",
       "      <td>['- CM Punk eliminates Evan Bourne\\n- CM Punk ...</td>\n",
       "      <td>Hero (Skillet), Martyr No More (Fozzy)</td>\n",
       "    </tr>\n",
       "    <tr>\n",
       "      <th>22</th>\n",
       "      <td>WWF Royal Rumble 2002</td>\n",
       "      <td>2002-01-20</td>\n",
       "      <td>Atlanta, Georgia, USA</td>\n",
       "      <td>Phillips Arena</td>\n",
       "      <td>12.915</td>\n",
       "      <td>Live</td>\n",
       "      <td>20.01.2002</td>\n",
       "      <td>NaN</td>\n",
       "      <td>Jim Ross &amp; Jerry Lawler</td>\n",
       "      <td>['Triple H defeats Albert and Al Snow and Bill...</td>\n",
       "      <td>['Triple H']</td>\n",
       "      <td>['- Rikishi eliminates The Big Bossman\\n- Al S...</td>\n",
       "      <td>Cocky (Kid Rock)</td>\n",
       "    </tr>\n",
       "  </tbody>\n",
       "</table>\n",
       "</div>"
      ],
      "text/plain": [
       "         Name of the event       Date               Location            Arena  \\\n",
       "14   WWE Royal Rumble 2010 2010-01-31  Atlanta, Georgia, USA    Philips Arena   \n",
       "22   WWF Royal Rumble 2002 2002-01-20  Atlanta, Georgia, USA   Phillips Arena   \n",
       "\n",
       "   Attendance Broadcast type Broadcast date TV station/network  \\\n",
       "14     16.697           Live     31.01.2010         PPV Sender   \n",
       "22     12.915           Live     20.01.2002                NaN   \n",
       "\n",
       "                                 Commentary by  \\\n",
       "14   Jerry Lawler, Matt Striker & Michael Cole   \n",
       "22                     Jim Ross & Jerry Lawler   \n",
       "\n",
       "                                              results       winners  \\\n",
       "14  ['Edge defeats Batista and Beth Phoenix and Ca...      ['Edge']   \n",
       "22  ['Triple H defeats Albert and Al Snow and Bill...  ['Triple H']   \n",
       "\n",
       "                                                notes  \\\n",
       "14  ['- CM Punk eliminates Evan Bourne\\n- CM Punk ...   \n",
       "22  ['- Rikishi eliminates The Big Bossman\\n- Al S...   \n",
       "\n",
       "                                      Theme  \n",
       "14   Hero (Skillet), Martyr No More (Fozzy)  \n",
       "22                         Cocky (Kid Rock)  "
      ]
     },
     "execution_count": 18,
     "metadata": {},
     "output_type": "execute_result"
    }
   ],
   "source": [
    "data_given_location(\"Georgia\")"
   ]
  },
  {
   "cell_type": "markdown",
   "id": "7ca6dc6c",
   "metadata": {},
   "source": [
    "## Arenas"
   ]
  },
  {
   "cell_type": "code",
   "execution_count": 19,
   "id": "c7eea0a9",
   "metadata": {},
   "outputs": [],
   "source": [
    "# There are 2 instances of the Philips Arena due to incorrect spelling\n",
    "# Updating the name to the \"State Farm Arena\""
   ]
  },
  {
   "cell_type": "code",
   "execution_count": 20,
   "id": "5af5dd52",
   "metadata": {},
   "outputs": [],
   "source": [
    "# trimming white spaces"
   ]
  },
  {
   "cell_type": "code",
   "execution_count": 21,
   "id": "b77c1c0d",
   "metadata": {},
   "outputs": [],
   "source": [
    "data['Arena'] = data['Arena'].str.strip()"
   ]
  },
  {
   "cell_type": "code",
   "execution_count": 22,
   "id": "402c5cad",
   "metadata": {},
   "outputs": [
    {
     "name": "stderr",
     "output_type": "stream",
     "text": [
      "C:\\Users\\Saurabh Mulgaonkar\\AppData\\Local\\Temp\\ipykernel_15172\\387095239.py:1: SettingWithCopyWarning: \n",
      "A value is trying to be set on a copy of a slice from a DataFrame\n",
      "\n",
      "See the caveats in the documentation: https://pandas.pydata.org/pandas-docs/stable/user_guide/indexing.html#returning-a-view-versus-a-copy\n",
      "  data['Arena'][data['Arena']==\"Phillips Arena\"] = \"State Farm Arena\"\n"
     ]
    }
   ],
   "source": [
    "data['Arena'][data['Arena']==\"Phillips Arena\"] = \"State Farm Arena\""
   ]
  },
  {
   "cell_type": "code",
   "execution_count": 23,
   "id": "d0962084",
   "metadata": {},
   "outputs": [
    {
     "name": "stderr",
     "output_type": "stream",
     "text": [
      "C:\\Users\\Saurabh Mulgaonkar\\AppData\\Local\\Temp\\ipykernel_15172\\2401790035.py:1: SettingWithCopyWarning: \n",
      "A value is trying to be set on a copy of a slice from a DataFrame\n",
      "\n",
      "See the caveats in the documentation: https://pandas.pydata.org/pandas-docs/stable/user_guide/indexing.html#returning-a-view-versus-a-copy\n",
      "  data['Arena'][data['Arena']==\"Philips Arena\"] = \"State Farm Arena\"\n"
     ]
    }
   ],
   "source": [
    "data['Arena'][data['Arena']==\"Philips Arena\"] = \"State Farm Arena\""
   ]
  },
  {
   "cell_type": "code",
   "execution_count": 24,
   "id": "40b5993d",
   "metadata": {},
   "outputs": [
    {
     "data": {
      "text/plain": [
       "'State Farm Arena'"
      ]
     },
     "execution_count": 24,
     "metadata": {},
     "output_type": "execute_result"
    }
   ],
   "source": [
    "data['Arena'][22]"
   ]
  },
  {
   "cell_type": "code",
   "execution_count": 25,
   "id": "e1f898b5",
   "metadata": {},
   "outputs": [
    {
     "data": {
      "text/plain": [
       "Alamodome                3\n",
       "Madison Square Garden    2\n",
       "Wells Fargo Center       2\n",
       "State Farm Arena         2\n",
       "Name: Arena, dtype: int64"
      ]
     },
     "execution_count": 25,
     "metadata": {},
     "output_type": "execute_result"
    }
   ],
   "source": [
    "# Arenas who have hosted the event more than once \n",
    "data['Arena'].value_counts()[data['Arena'].value_counts()!=1]"
   ]
  },
  {
   "cell_type": "markdown",
   "id": "f2a5157c",
   "metadata": {},
   "source": [
    "## Attendence"
   ]
  },
  {
   "cell_type": "code",
   "execution_count": 26,
   "id": "d498209c",
   "metadata": {},
   "outputs": [
    {
     "data": {
      "text/html": [
       "<div>\n",
       "<style scoped>\n",
       "    .dataframe tbody tr th:only-of-type {\n",
       "        vertical-align: middle;\n",
       "    }\n",
       "\n",
       "    .dataframe tbody tr th {\n",
       "        vertical-align: top;\n",
       "    }\n",
       "\n",
       "    .dataframe thead th {\n",
       "        text-align: right;\n",
       "    }\n",
       "</style>\n",
       "<table border=\"1\" class=\"dataframe\">\n",
       "  <thead>\n",
       "    <tr style=\"text-align: right;\">\n",
       "      <th></th>\n",
       "      <th>Name of the event</th>\n",
       "      <th>Date</th>\n",
       "      <th>Location</th>\n",
       "      <th>Arena</th>\n",
       "      <th>Attendance</th>\n",
       "      <th>Broadcast type</th>\n",
       "      <th>Broadcast date</th>\n",
       "      <th>TV station/network</th>\n",
       "      <th>Commentary by</th>\n",
       "      <th>results</th>\n",
       "      <th>winners</th>\n",
       "      <th>notes</th>\n",
       "      <th>Theme</th>\n",
       "    </tr>\n",
       "  </thead>\n",
       "  <tbody>\n",
       "    <tr>\n",
       "      <th>3</th>\n",
       "      <td>WWE Royal Rumble 2021</td>\n",
       "      <td>2021-01-31</td>\n",
       "      <td>St. Petersburg, Florida, USA</td>\n",
       "      <td>WWE ThunderDome (Tropicana Field)</td>\n",
       "      <td>NaN</td>\n",
       "      <td>Live</td>\n",
       "      <td>31.01.2021</td>\n",
       "      <td>WWE Network</td>\n",
       "      <td>Byron Saxton, Samoa Joe, Tom Phillips, Corey ...</td>\n",
       "      <td>['Bianca Belair defeats Alexa Bliss and Alicia...</td>\n",
       "      <td>['Bianca Belair', 'Edge']</td>\n",
       "      <td>['- Shayna Baszler eliminates Shotzi Blackhear...</td>\n",
       "      <td>NaN</td>\n",
       "    </tr>\n",
       "    <tr>\n",
       "      <th>15</th>\n",
       "      <td>WWE Royal Rumble 2009</td>\n",
       "      <td>2009-01-25</td>\n",
       "      <td>Detroit, Michigan, USA</td>\n",
       "      <td>Joe Louis Arena</td>\n",
       "      <td>NaN</td>\n",
       "      <td>Live</td>\n",
       "      <td>25.01.2009</td>\n",
       "      <td>PPV Sender</td>\n",
       "      <td>Jerry Lawler, Jim Ross, Michael Cole, Tazz, M...</td>\n",
       "      <td>['Randy Orton defeats Carlito and Chris Jerich...</td>\n",
       "      <td>['Randy Orton']</td>\n",
       "      <td>['- Vladimir Kozlov eliminates The Great Khali...</td>\n",
       "      <td>Let It Rock (Kevin Rudolf)</td>\n",
       "    </tr>\n",
       "  </tbody>\n",
       "</table>\n",
       "</div>"
      ],
      "text/plain": [
       "         Name of the event       Date                      Location  \\\n",
       "3    WWE Royal Rumble 2021 2021-01-31  St. Petersburg, Florida, USA   \n",
       "15   WWE Royal Rumble 2009 2009-01-25        Detroit, Michigan, USA   \n",
       "\n",
       "                                Arena Attendance Broadcast type  \\\n",
       "3   WWE ThunderDome (Tropicana Field)        NaN           Live   \n",
       "15                    Joe Louis Arena        NaN           Live   \n",
       "\n",
       "   Broadcast date TV station/network  \\\n",
       "3      31.01.2021        WWE Network   \n",
       "15     25.01.2009         PPV Sender   \n",
       "\n",
       "                                        Commentary by  \\\n",
       "3    Byron Saxton, Samoa Joe, Tom Phillips, Corey ...   \n",
       "15   Jerry Lawler, Jim Ross, Michael Cole, Tazz, M...   \n",
       "\n",
       "                                              results  \\\n",
       "3   ['Bianca Belair defeats Alexa Bliss and Alicia...   \n",
       "15  ['Randy Orton defeats Carlito and Chris Jerich...   \n",
       "\n",
       "                      winners  \\\n",
       "3   ['Bianca Belair', 'Edge']   \n",
       "15            ['Randy Orton']   \n",
       "\n",
       "                                                notes  \\\n",
       "3   ['- Shayna Baszler eliminates Shotzi Blackhear...   \n",
       "15  ['- Vladimir Kozlov eliminates The Great Khali...   \n",
       "\n",
       "                          Theme  \n",
       "3                           NaN  \n",
       "15   Let It Rock (Kevin Rudolf)  "
      ]
     },
     "execution_count": 26,
     "metadata": {},
     "output_type": "execute_result"
    }
   ],
   "source": [
    "idx1 = data['Attendance'][data['Attendance'].isnull()==True].index\n",
    "data.loc[idx1]"
   ]
  },
  {
   "cell_type": "code",
   "execution_count": 27,
   "id": "d237e13c",
   "metadata": {},
   "outputs": [],
   "source": [
    "# from internet search -> 2021 attendence 0 (covid) \n",
    "# from internet search -> 2009 attendence 16,685"
   ]
  },
  {
   "cell_type": "code",
   "execution_count": 28,
   "id": "923099f8",
   "metadata": {},
   "outputs": [
    {
     "name": "stderr",
     "output_type": "stream",
     "text": [
      "C:\\Users\\Saurabh Mulgaonkar\\AppData\\Local\\Temp\\ipykernel_15172\\3322301862.py:1: SettingWithCopyWarning: \n",
      "A value is trying to be set on a copy of a slice from a DataFrame\n",
      "\n",
      "See the caveats in the documentation: https://pandas.pydata.org/pandas-docs/stable/user_guide/indexing.html#returning-a-view-versus-a-copy\n",
      "  data['Attendance'].loc[15] = str(16685)\n"
     ]
    }
   ],
   "source": [
    "data['Attendance'].loc[15] = str(16685)"
   ]
  },
  {
   "cell_type": "code",
   "execution_count": 29,
   "id": "c443eb39",
   "metadata": {},
   "outputs": [
    {
     "name": "stderr",
     "output_type": "stream",
     "text": [
      "C:\\Users\\Saurabh Mulgaonkar\\AppData\\Local\\Temp\\ipykernel_15172\\3106496441.py:1: SettingWithCopyWarning: \n",
      "A value is trying to be set on a copy of a slice from a DataFrame\n",
      "\n",
      "See the caveats in the documentation: https://pandas.pydata.org/pandas-docs/stable/user_guide/indexing.html#returning-a-view-versus-a-copy\n",
      "  data['Attendance'].loc[3] = str(0)\n"
     ]
    }
   ],
   "source": [
    "data['Attendance'].loc[3] = str(0)"
   ]
  },
  {
   "cell_type": "code",
   "execution_count": 30,
   "id": "2c94e1a5",
   "metadata": {},
   "outputs": [
    {
     "data": {
      "text/plain": [
       "0          46.082\n",
       "1          47.585\n",
       "2          39.417\n",
       "3               0\n",
       "4          42.715\n",
       "5          48.193\n",
       "6          17.629\n",
       "7          52.020\n",
       "8          15.170\n",
       "9          17.164\n",
       "10         15.715\n",
       "11         15.103\n",
       "12         18.121\n",
       "13         15.113\n",
       "14         16.697\n",
       "15          16685\n",
       "16         20.798\n",
       "17     ca. 16.000\n",
       "18         16.178\n",
       "19     ca. 12.000\n",
       "20         17.289\n",
       "21         14.712\n",
       "22         12.915\n",
       "23         17.137\n",
       "24         19.231\n",
       "25         14.816\n",
       "26         18.542\n",
       "27         60.525\n",
       "28      ca. 9.600\n",
       "29     ca. 10.000\n",
       "30     ca. 14.500\n",
       "31     ca. 16.000\n",
       "32     ca. 17.000\n",
       "33     ca. 16.000\n",
       "34     ca. 16.000\n",
       "35     ca. 19.000\n",
       "36     ca. 18.000\n",
       "Name: Attendance, dtype: object"
      ]
     },
     "execution_count": 30,
     "metadata": {},
     "output_type": "execute_result"
    }
   ],
   "source": [
    "data['Attendance']"
   ]
  },
  {
   "cell_type": "code",
   "execution_count": 31,
   "id": "ad3f32d3",
   "metadata": {},
   "outputs": [],
   "source": [
    "# ca. -> capped at -> meaning max capacity.\n",
    "# The data is not available for that. Assuming the ca as the actual capacity"
   ]
  },
  {
   "cell_type": "code",
   "execution_count": 32,
   "id": "21fa62bb",
   "metadata": {},
   "outputs": [
    {
     "name": "stderr",
     "output_type": "stream",
     "text": [
      "C:\\Users\\Saurabh Mulgaonkar\\AppData\\Local\\Temp\\ipykernel_15172\\3403561670.py:2: FutureWarning: The default value of regex will change from True to False in a future version.\n",
      "  data['Attendance'] = data['Attendance'].str.replace('ca.','').str.replace('.','')\n",
      "C:\\Users\\Saurabh Mulgaonkar\\AppData\\Local\\Temp\\ipykernel_15172\\3403561670.py:2: FutureWarning: The default value of regex will change from True to False in a future version. In addition, single character regular expressions will *not* be treated as literal strings when regex=True.\n",
      "  data['Attendance'] = data['Attendance'].str.replace('ca.','').str.replace('.','')\n"
     ]
    }
   ],
   "source": [
    "# cleaning attendance\n",
    "data['Attendance'] = data['Attendance'].str.replace('ca.','').str.replace('.','')"
   ]
  },
  {
   "cell_type": "code",
   "execution_count": 33,
   "id": "dd6e79fd",
   "metadata": {},
   "outputs": [],
   "source": [
    "data['Attendance'] = data['Attendance'].astype('int')"
   ]
  },
  {
   "cell_type": "code",
   "execution_count": 34,
   "id": "b45afd59",
   "metadata": {},
   "outputs": [],
   "source": [
    "# removing cols brodcast type and date and TV station/network\n",
    "data.drop(columns = ['Broadcast type','Broadcast date'],inplace = True)"
   ]
  },
  {
   "cell_type": "code",
   "execution_count": 35,
   "id": "d955b0c9",
   "metadata": {},
   "outputs": [],
   "source": [
    "data.drop(columns = ['TV station/network'],inplace = True)"
   ]
  },
  {
   "cell_type": "code",
   "execution_count": 36,
   "id": "96b8941f",
   "metadata": {},
   "outputs": [
    {
     "data": {
      "text/html": [
       "<div>\n",
       "<style scoped>\n",
       "    .dataframe tbody tr th:only-of-type {\n",
       "        vertical-align: middle;\n",
       "    }\n",
       "\n",
       "    .dataframe tbody tr th {\n",
       "        vertical-align: top;\n",
       "    }\n",
       "\n",
       "    .dataframe thead th {\n",
       "        text-align: right;\n",
       "    }\n",
       "</style>\n",
       "<table border=\"1\" class=\"dataframe\">\n",
       "  <thead>\n",
       "    <tr style=\"text-align: right;\">\n",
       "      <th></th>\n",
       "      <th>Name of the event</th>\n",
       "      <th>Date</th>\n",
       "      <th>Location</th>\n",
       "      <th>Arena</th>\n",
       "      <th>Attendance</th>\n",
       "      <th>Commentary by</th>\n",
       "      <th>results</th>\n",
       "      <th>winners</th>\n",
       "      <th>notes</th>\n",
       "      <th>Theme</th>\n",
       "    </tr>\n",
       "  </thead>\n",
       "  <tbody>\n",
       "    <tr>\n",
       "      <th>0</th>\n",
       "      <td>WWE Royal Rumble 2024</td>\n",
       "      <td>2024-01-27</td>\n",
       "      <td>St. Petersburg, Florida, USA</td>\n",
       "      <td>Tropicana Field</td>\n",
       "      <td>46082</td>\n",
       "      <td>Corey Graves, Michael Cole &amp; Pat McAfee</td>\n",
       "      <td>['Bayley defeats Alba Fyre and Asuka and Becky...</td>\n",
       "      <td>['Bayley', 'Cody Rhodes']</td>\n",
       "      <td>['- Bayley eliminates Indi Hartwell (10:58)\\n-...</td>\n",
       "      <td>NaN</td>\n",
       "    </tr>\n",
       "    <tr>\n",
       "      <th>1</th>\n",
       "      <td>WWE Royal Rumble 2023</td>\n",
       "      <td>2023-01-28</td>\n",
       "      <td>San Antonio, Texas, USA</td>\n",
       "      <td>Alamodome</td>\n",
       "      <td>47585</td>\n",
       "      <td>Corey Graves, Michael Cole &amp; Pat McAfee</td>\n",
       "      <td>['Cody Rhodes defeats Angelo Dawkins and Austi...</td>\n",
       "      <td>['Cody Rhodes', 'Rhea Ripley']</td>\n",
       "      <td>['- Sheamus eliminates The Miz (6:58)\\n- Drew ...</td>\n",
       "      <td>Sold Out (HARDY)</td>\n",
       "    </tr>\n",
       "    <tr>\n",
       "      <th>2</th>\n",
       "      <td>WWE Royal Rumble 2022</td>\n",
       "      <td>2022-01-29</td>\n",
       "      <td>St. Louis, Missouri, USA</td>\n",
       "      <td>The Dome at America's Center</td>\n",
       "      <td>39417</td>\n",
       "      <td>Byron Saxton, Corey Graves, Jimmy Smith, Mich...</td>\n",
       "      <td>['Ronda Rousey defeats Alicia Fox and Aliyah a...</td>\n",
       "      <td>['Ronda Rousey', 'Brock Lesnar']</td>\n",
       "      <td>['- Sasha Banks eliminates Melina (0:54)\\n- Sa...</td>\n",
       "      <td>NaN</td>\n",
       "    </tr>\n",
       "    <tr>\n",
       "      <th>3</th>\n",
       "      <td>WWE Royal Rumble 2021</td>\n",
       "      <td>2021-01-31</td>\n",
       "      <td>St. Petersburg, Florida, USA</td>\n",
       "      <td>WWE ThunderDome (Tropicana Field)</td>\n",
       "      <td>0</td>\n",
       "      <td>Byron Saxton, Samoa Joe, Tom Phillips, Corey ...</td>\n",
       "      <td>['Bianca Belair defeats Alexa Bliss and Alicia...</td>\n",
       "      <td>['Bianca Belair', 'Edge']</td>\n",
       "      <td>['- Shayna Baszler eliminates Shotzi Blackhear...</td>\n",
       "      <td>NaN</td>\n",
       "    </tr>\n",
       "    <tr>\n",
       "      <th>4</th>\n",
       "      <td>WWE Royal Rumble 2020</td>\n",
       "      <td>2020-01-26</td>\n",
       "      <td>Houston, Texas, USA</td>\n",
       "      <td>Minute Maid Park</td>\n",
       "      <td>42715</td>\n",
       "      <td>Michael Cole, Corey Graves, Tom Phillips, Jer...</td>\n",
       "      <td>['Charlotte Flair defeats Alexa Bliss and Beth...</td>\n",
       "      <td>['Charlotte Flair', 'Drew McIntyre']</td>\n",
       "      <td>['- Liv Morgan eliminates Lana\\n- Lana elimina...</td>\n",
       "      <td>Rumble (Zayde Wolf)</td>\n",
       "    </tr>\n",
       "  </tbody>\n",
       "</table>\n",
       "</div>"
      ],
      "text/plain": [
       "        Name of the event       Date                      Location  \\\n",
       "0   WWE Royal Rumble 2024 2024-01-27  St. Petersburg, Florida, USA   \n",
       "1   WWE Royal Rumble 2023 2023-01-28       San Antonio, Texas, USA   \n",
       "2   WWE Royal Rumble 2022 2022-01-29      St. Louis, Missouri, USA   \n",
       "3   WWE Royal Rumble 2021 2021-01-31  St. Petersburg, Florida, USA   \n",
       "4   WWE Royal Rumble 2020 2020-01-26           Houston, Texas, USA   \n",
       "\n",
       "                               Arena  Attendance  \\\n",
       "0                    Tropicana Field       46082   \n",
       "1                          Alamodome       47585   \n",
       "2       The Dome at America's Center       39417   \n",
       "3  WWE ThunderDome (Tropicana Field)           0   \n",
       "4                   Minute Maid Park       42715   \n",
       "\n",
       "                                       Commentary by  \\\n",
       "0            Corey Graves, Michael Cole & Pat McAfee   \n",
       "1            Corey Graves, Michael Cole & Pat McAfee   \n",
       "2   Byron Saxton, Corey Graves, Jimmy Smith, Mich...   \n",
       "3   Byron Saxton, Samoa Joe, Tom Phillips, Corey ...   \n",
       "4   Michael Cole, Corey Graves, Tom Phillips, Jer...   \n",
       "\n",
       "                                             results  \\\n",
       "0  ['Bayley defeats Alba Fyre and Asuka and Becky...   \n",
       "1  ['Cody Rhodes defeats Angelo Dawkins and Austi...   \n",
       "2  ['Ronda Rousey defeats Alicia Fox and Aliyah a...   \n",
       "3  ['Bianca Belair defeats Alexa Bliss and Alicia...   \n",
       "4  ['Charlotte Flair defeats Alexa Bliss and Beth...   \n",
       "\n",
       "                                winners  \\\n",
       "0             ['Bayley', 'Cody Rhodes']   \n",
       "1        ['Cody Rhodes', 'Rhea Ripley']   \n",
       "2      ['Ronda Rousey', 'Brock Lesnar']   \n",
       "3             ['Bianca Belair', 'Edge']   \n",
       "4  ['Charlotte Flair', 'Drew McIntyre']   \n",
       "\n",
       "                                               notes                 Theme  \n",
       "0  ['- Bayley eliminates Indi Hartwell (10:58)\\n-...                   NaN  \n",
       "1  ['- Sheamus eliminates The Miz (6:58)\\n- Drew ...      Sold Out (HARDY)  \n",
       "2  ['- Sasha Banks eliminates Melina (0:54)\\n- Sa...                   NaN  \n",
       "3  ['- Shayna Baszler eliminates Shotzi Blackhear...                   NaN  \n",
       "4  ['- Liv Morgan eliminates Lana\\n- Lana elimina...   Rumble (Zayde Wolf)  "
      ]
     },
     "execution_count": 36,
     "metadata": {},
     "output_type": "execute_result"
    }
   ],
   "source": [
    "data.head()"
   ]
  },
  {
   "cell_type": "code",
   "execution_count": 37,
   "id": "f2ca9c2b",
   "metadata": {},
   "outputs": [
    {
     "name": "stdout",
     "output_type": "stream",
     "text": [
      "<class 'pandas.core.frame.DataFrame'>\n",
      "RangeIndex: 37 entries, 0 to 36\n",
      "Data columns (total 10 columns):\n",
      " #   Column             Non-Null Count  Dtype         \n",
      "---  ------             --------------  -----         \n",
      " 0   Name of the event  37 non-null     object        \n",
      " 1   Date               37 non-null     datetime64[ns]\n",
      " 2   Location           37 non-null     object        \n",
      " 3   Arena              37 non-null     object        \n",
      " 4   Attendance         37 non-null     int32         \n",
      " 5   Commentary by      37 non-null     object        \n",
      " 6   results            37 non-null     object        \n",
      " 7   winners            37 non-null     object        \n",
      " 8   notes              37 non-null     object        \n",
      " 9   Theme              20 non-null     object        \n",
      "dtypes: datetime64[ns](1), int32(1), object(8)\n",
      "memory usage: 2.9+ KB\n"
     ]
    }
   ],
   "source": [
    "data.info()"
   ]
  },
  {
   "cell_type": "markdown",
   "id": "f818eb95",
   "metadata": {},
   "source": [
    "# Commentary"
   ]
  },
  {
   "cell_type": "code",
   "execution_count": 38,
   "id": "c0697dbe",
   "metadata": {},
   "outputs": [],
   "source": [
    "data['Commentary by'] = data['Commentary by'].str.replace('&',',')"
   ]
  },
  {
   "cell_type": "code",
   "execution_count": 39,
   "id": "b320fb0c",
   "metadata": {},
   "outputs": [],
   "source": [
    "comm_text = ','.join(data['Commentary by'])"
   ]
  },
  {
   "cell_type": "code",
   "execution_count": 40,
   "id": "036a7dc6",
   "metadata": {},
   "outputs": [],
   "source": [
    "comm_ls = comm_text.split(',')"
   ]
  },
  {
   "cell_type": "code",
   "execution_count": 41,
   "id": "49e1e3a1",
   "metadata": {},
   "outputs": [],
   "source": [
    "comm_ls2 = [i.strip() for i in comm_ls]"
   ]
  },
  {
   "cell_type": "code",
   "execution_count": 42,
   "id": "79513572",
   "metadata": {},
   "outputs": [],
   "source": [
    "comm_ls3 = set(comm_ls2)"
   ]
  },
  {
   "cell_type": "code",
   "execution_count": 43,
   "id": "a5257022",
   "metadata": {},
   "outputs": [
    {
     "data": {
      "text/plain": [
       "33"
      ]
     },
     "execution_count": 43,
     "metadata": {},
     "output_type": "execute_result"
    }
   ],
   "source": [
    "# Total no of commentators over the events' history\n",
    "len(comm_ls3)"
   ]
  },
  {
   "cell_type": "code",
   "execution_count": 44,
   "id": "b8119bc9",
   "metadata": {},
   "outputs": [
    {
     "data": {
      "text/plain": [
       "Jerry Lawler              24\n",
       "Michael Cole              22\n",
       "Jim Ross                  11\n",
       "Corey Graves               8\n",
       "John Bradshaw Layfield     7\n",
       "Tazz                       7\n",
       "Byron Saxton               6\n",
       "Vince McMahon              6\n",
       "Tom Phillips               5\n",
       "Gorilla Monsoon            4\n",
       "dtype: int64"
      ]
     },
     "execution_count": 44,
     "metadata": {},
     "output_type": "execute_result"
    }
   ],
   "source": [
    "# Most events commentated by, top 10\n",
    "pd.Series(comm_ls2).value_counts()[:10]"
   ]
  },
  {
   "cell_type": "markdown",
   "id": "be83aba9",
   "metadata": {},
   "source": [
    "# Winners"
   ]
  },
  {
   "cell_type": "code",
   "execution_count": 54,
   "id": "5c9c3381",
   "metadata": {},
   "outputs": [],
   "source": [
    "data.rename(columns = {'results':'Results','winners':'Winners','notes':'Notes'}, inplace=True)"
   ]
  },
  {
   "cell_type": "code",
   "execution_count": 77,
   "id": "a825c59f",
   "metadata": {},
   "outputs": [],
   "source": [
    "# list got converted to string; using this library to transform it to list\n",
    "data['Winners'] = data['Winners'].apply(ast.literal_eval)"
   ]
  },
  {
   "cell_type": "code",
   "execution_count": 83,
   "id": "5734463b",
   "metadata": {},
   "outputs": [
    {
     "name": "stderr",
     "output_type": "stream",
     "text": [
      "C:\\Users\\Saurabh Mulgaonkar\\AppData\\Local\\Temp\\ipykernel_15172\\2050755555.py:2: SettingWithCopyWarning: \n",
      "A value is trying to be set on a copy of a slice from a DataFrame\n",
      "\n",
      "See the caveats in the documentation: https://pandas.pydata.org/pandas-docs/stable/user_guide/indexing.html#returning-a-view-versus-a-copy\n",
      "  data['Winners'].loc[30] = ['Bret Hart','Lex Luger']\n"
     ]
    }
   ],
   "source": [
    "# In 1994 2 people won the event, editing the data\n",
    "data['Winners'].loc[30] = ['Bret Hart','Lex Luger']"
   ]
  },
  {
   "cell_type": "code",
   "execution_count": 93,
   "id": "095be92b",
   "metadata": {},
   "outputs": [
    {
     "data": {
      "text/plain": [
       "45"
      ]
     },
     "execution_count": 93,
     "metadata": {},
     "output_type": "execute_result"
    }
   ],
   "source": [
    "# Total number of winners from 1988 to 2024\n",
    "data['Winners'].apply(lambda x:len(x)).sum()"
   ]
  },
  {
   "cell_type": "code",
   "execution_count": 97,
   "id": "3f4759e3",
   "metadata": {},
   "outputs": [
    {
     "data": {
      "text/plain": [
       "7"
      ]
     },
     "execution_count": 97,
     "metadata": {},
     "output_type": "execute_result"
    }
   ],
   "source": [
    "# Since the RR event for women started in 2018; looking at the data for total women winners\n",
    "len(data['Winners'][data['Date']>=\"01-01-2018\"])"
   ]
  },
  {
   "cell_type": "code",
   "execution_count": 99,
   "id": "101d7d9f",
   "metadata": {},
   "outputs": [],
   "source": [
    "# total number of winners who are Men = 45-7 = 38"
   ]
  },
  {
   "cell_type": "markdown",
   "id": "e0f0ff41",
   "metadata": {},
   "source": [
    "# Results"
   ]
  },
  {
   "cell_type": "code",
   "execution_count": null,
   "id": "d0a37aa1",
   "metadata": {},
   "outputs": [],
   "source": []
  }
 ],
 "metadata": {
  "kernelspec": {
   "display_name": "Python 3 (ipykernel)",
   "language": "python",
   "name": "python3"
  },
  "language_info": {
   "codemirror_mode": {
    "name": "ipython",
    "version": 3
   },
   "file_extension": ".py",
   "mimetype": "text/x-python",
   "name": "python",
   "nbconvert_exporter": "python",
   "pygments_lexer": "ipython3",
   "version": "3.9.12"
  }
 },
 "nbformat": 4,
 "nbformat_minor": 5
}
